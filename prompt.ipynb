{
 "cells": [
  {
   "cell_type": "markdown",
   "metadata": {
    "id": "CcUT6Fon_qRE"
   },
   "source": [
    "### Required Assignment 5.1: Will the Customer Accept the Coupon?\n",
    "\n",
    "**Context**\n",
    "\n",
    "Imagine driving through town and a coupon is delivered to your cell phone for a restaurant near where you are driving. Would you accept that coupon and take a short detour to the restaurant? Would you accept the coupon but use it on a subsequent trip? Would you ignore the coupon entirely? What if the coupon was for a bar instead of a restaurant? What about a coffee house? Would you accept a bar coupon with a minor passenger in the car? What about if it was just you and your partner in the car? Would weather impact the rate of acceptance? What about the time of day?\n",
    "\n",
    "Obviously, proximity to the business is a factor on whether the coupon is delivered to the driver or not, but what are the factors that determine whether a driver accepts the coupon once it is delivered to them? How would you determine whether a driver is likely to accept a coupon?\n",
    "\n",
    "**Overview**\n",
    "\n",
    "The goal of this project is to use what you know about visualizations and probability distributions to distinguish between customers who accepted a driving coupon versus those that did not.\n",
    "\n",
    "**Data**\n",
    "\n",
    "This data comes to us from the UCI Machine Learning repository and was collected via a survey on Amazon Mechanical Turk. The survey describes different driving scenarios including the destination, current time, weather, passenger, etc., and then ask the person whether he will accept the coupon if he is the driver. Answers that the user will drive there ‘right away’ or ‘later before the coupon expires’ are labeled as ‘Y = 1’ and answers ‘no, I do not want the coupon’ are labeled as ‘Y = 0’.  There are five different types of coupons -- less expensive restaurants (under \\$20), coffee houses, carry out & take away, bar, and more expensive restaurants (\\$20 - $50)."
   ]
  },
  {
   "cell_type": "markdown",
   "metadata": {
    "id": "1wORvMBJ_qRF"
   },
   "source": [
    "**Deliverables**\n",
    "\n",
    "Your final product should be a brief report that highlights the differences between customers who did and did not accept the coupons.  To explore the data you will utilize your knowledge of plotting, statistical summaries, and visualization using Python. You will publish your findings in a public facing github repository as your first portfolio piece.\n",
    "\n",
    "\n",
    "\n"
   ]
  },
  {
   "cell_type": "markdown",
   "metadata": {
    "id": "pG6_Ym6q_qRG"
   },
   "source": [
    "### Data Description\n",
    "Keep in mind that these values mentioned below are average values.\n",
    "\n",
    "The attributes of this data set include:\n",
    "1. User attributes\n",
    "    -  Gender: male, female\n",
    "    -  Age: below 21, 21 to 25, 26 to 30, etc.\n",
    "    -  Marital Status: single, married partner, unmarried partner, or widowed\n",
    "    -  Number of children: 0, 1, or more than 1\n",
    "    -  Education: high school, bachelors degree, associates degree, or graduate degree\n",
    "    -  Occupation: architecture & engineering, business & financial, etc.\n",
    "    -  Annual income: less than \\\\$12500, \\\\$12500 - \\\\$24999, \\\\$25000 - \\\\$37499, etc.\n",
    "    -  Number of times that he/she goes to a bar: 0, less than 1, 1 to 3, 4 to 8 or greater than 8\n",
    "    -  Number of times that he/she buys takeaway food: 0, less than 1, 1 to 3, 4 to 8 or greater\n",
    "    than 8\n",
    "    -  Number of times that he/she goes to a coffee house: 0, less than 1, 1 to 3, 4 to 8 or\n",
    "    greater than 8\n",
    "    -  Number of times that he/she eats at a restaurant with average expense less than \\\\$20 per\n",
    "    person: 0, less than 1, 1 to 3, 4 to 8 or greater than 8\n",
    "    -  Number of times that he/she goes to a bar: 0, less than 1, 1 to 3, 4 to 8 or greater than 8\n",
    "    \n",
    "\n",
    "2. Contextual attributes\n",
    "    - Driving destination: home, work, or no urgent destination\n",
    "    - Location of user, coupon and destination: we provide a map to show the geographical\n",
    "    location of the user, destination, and the venue, and we mark the distance between each\n",
    "    two places with time of driving. The user can see whether the venue is in the same\n",
    "    direction as the destination.\n",
    "    - Weather: sunny, rainy, or snowy\n",
    "    - Temperature: 30F, 55F, or 80F\n",
    "    - Time: 10AM, 2PM, or 6PM\n",
    "    - Passenger: alone, partner, kid(s), or friend(s)\n",
    "\n",
    "\n",
    "3. Coupon attributes\n",
    "    - time before it expires: 2 hours or one day"
   ]
  },
  {
   "cell_type": "code",
   "execution_count": 547,
   "metadata": {
    "id": "dzNoP3o__qRG"
   },
   "outputs": [],
   "source": [
    "import matplotlib.pyplot as plt\n",
    "import seaborn as sns\n",
    "import pandas as pd\n",
    "import numpy as np\n",
    "import os"
   ]
  },
  {
   "cell_type": "markdown",
   "metadata": {
    "id": "Ct8pI1uE_qRG"
   },
   "source": [
    "### Problems\n",
    "\n",
    "Use the prompts below to get started with your data analysis.  \n",
    "\n",
    "1. Read in the `coupons.csv` file.\n",
    "\n",
    "\n"
   ]
  },
  {
   "cell_type": "code",
   "execution_count": 549,
   "metadata": {
    "id": "X0vbffYg_qRH"
   },
   "outputs": [],
   "source": [
    "data = pd.read_csv('~/Desktop/assignment5_1/data/coupons.csv')"
   ]
  },
  {
   "cell_type": "code",
   "execution_count": 550,
   "metadata": {
    "id": "TXofQ_DF_qRH",
    "outputId": "2fc96a2c-1112-4b54-f24f-dbb9bc88abfb"
   },
   "outputs": [
    {
     "data": {
      "text/html": [
       "<div>\n",
       "<style scoped>\n",
       "    .dataframe tbody tr th:only-of-type {\n",
       "        vertical-align: middle;\n",
       "    }\n",
       "\n",
       "    .dataframe tbody tr th {\n",
       "        vertical-align: top;\n",
       "    }\n",
       "\n",
       "    .dataframe thead th {\n",
       "        text-align: right;\n",
       "    }\n",
       "</style>\n",
       "<table border=\"1\" class=\"dataframe\">\n",
       "  <thead>\n",
       "    <tr style=\"text-align: right;\">\n",
       "      <th></th>\n",
       "      <th>destination</th>\n",
       "      <th>passanger</th>\n",
       "      <th>weather</th>\n",
       "      <th>temperature</th>\n",
       "      <th>time</th>\n",
       "      <th>coupon</th>\n",
       "      <th>expiration</th>\n",
       "      <th>gender</th>\n",
       "      <th>age</th>\n",
       "      <th>maritalStatus</th>\n",
       "      <th>...</th>\n",
       "      <th>CoffeeHouse</th>\n",
       "      <th>CarryAway</th>\n",
       "      <th>RestaurantLessThan20</th>\n",
       "      <th>Restaurant20To50</th>\n",
       "      <th>toCoupon_GEQ5min</th>\n",
       "      <th>toCoupon_GEQ15min</th>\n",
       "      <th>toCoupon_GEQ25min</th>\n",
       "      <th>direction_same</th>\n",
       "      <th>direction_opp</th>\n",
       "      <th>Y</th>\n",
       "    </tr>\n",
       "  </thead>\n",
       "  <tbody>\n",
       "    <tr>\n",
       "      <th>0</th>\n",
       "      <td>No Urgent Place</td>\n",
       "      <td>Alone</td>\n",
       "      <td>Sunny</td>\n",
       "      <td>55</td>\n",
       "      <td>2PM</td>\n",
       "      <td>Restaurant(&lt;20)</td>\n",
       "      <td>1d</td>\n",
       "      <td>Female</td>\n",
       "      <td>21</td>\n",
       "      <td>Unmarried partner</td>\n",
       "      <td>...</td>\n",
       "      <td>never</td>\n",
       "      <td>NaN</td>\n",
       "      <td>4~8</td>\n",
       "      <td>1~3</td>\n",
       "      <td>1</td>\n",
       "      <td>0</td>\n",
       "      <td>0</td>\n",
       "      <td>0</td>\n",
       "      <td>1</td>\n",
       "      <td>1</td>\n",
       "    </tr>\n",
       "    <tr>\n",
       "      <th>1</th>\n",
       "      <td>No Urgent Place</td>\n",
       "      <td>Friend(s)</td>\n",
       "      <td>Sunny</td>\n",
       "      <td>80</td>\n",
       "      <td>10AM</td>\n",
       "      <td>Coffee House</td>\n",
       "      <td>2h</td>\n",
       "      <td>Female</td>\n",
       "      <td>21</td>\n",
       "      <td>Unmarried partner</td>\n",
       "      <td>...</td>\n",
       "      <td>never</td>\n",
       "      <td>NaN</td>\n",
       "      <td>4~8</td>\n",
       "      <td>1~3</td>\n",
       "      <td>1</td>\n",
       "      <td>0</td>\n",
       "      <td>0</td>\n",
       "      <td>0</td>\n",
       "      <td>1</td>\n",
       "      <td>0</td>\n",
       "    </tr>\n",
       "    <tr>\n",
       "      <th>2</th>\n",
       "      <td>No Urgent Place</td>\n",
       "      <td>Friend(s)</td>\n",
       "      <td>Sunny</td>\n",
       "      <td>80</td>\n",
       "      <td>10AM</td>\n",
       "      <td>Carry out &amp; Take away</td>\n",
       "      <td>2h</td>\n",
       "      <td>Female</td>\n",
       "      <td>21</td>\n",
       "      <td>Unmarried partner</td>\n",
       "      <td>...</td>\n",
       "      <td>never</td>\n",
       "      <td>NaN</td>\n",
       "      <td>4~8</td>\n",
       "      <td>1~3</td>\n",
       "      <td>1</td>\n",
       "      <td>1</td>\n",
       "      <td>0</td>\n",
       "      <td>0</td>\n",
       "      <td>1</td>\n",
       "      <td>1</td>\n",
       "    </tr>\n",
       "    <tr>\n",
       "      <th>3</th>\n",
       "      <td>No Urgent Place</td>\n",
       "      <td>Friend(s)</td>\n",
       "      <td>Sunny</td>\n",
       "      <td>80</td>\n",
       "      <td>2PM</td>\n",
       "      <td>Coffee House</td>\n",
       "      <td>2h</td>\n",
       "      <td>Female</td>\n",
       "      <td>21</td>\n",
       "      <td>Unmarried partner</td>\n",
       "      <td>...</td>\n",
       "      <td>never</td>\n",
       "      <td>NaN</td>\n",
       "      <td>4~8</td>\n",
       "      <td>1~3</td>\n",
       "      <td>1</td>\n",
       "      <td>1</td>\n",
       "      <td>0</td>\n",
       "      <td>0</td>\n",
       "      <td>1</td>\n",
       "      <td>0</td>\n",
       "    </tr>\n",
       "    <tr>\n",
       "      <th>4</th>\n",
       "      <td>No Urgent Place</td>\n",
       "      <td>Friend(s)</td>\n",
       "      <td>Sunny</td>\n",
       "      <td>80</td>\n",
       "      <td>2PM</td>\n",
       "      <td>Coffee House</td>\n",
       "      <td>1d</td>\n",
       "      <td>Female</td>\n",
       "      <td>21</td>\n",
       "      <td>Unmarried partner</td>\n",
       "      <td>...</td>\n",
       "      <td>never</td>\n",
       "      <td>NaN</td>\n",
       "      <td>4~8</td>\n",
       "      <td>1~3</td>\n",
       "      <td>1</td>\n",
       "      <td>1</td>\n",
       "      <td>0</td>\n",
       "      <td>0</td>\n",
       "      <td>1</td>\n",
       "      <td>0</td>\n",
       "    </tr>\n",
       "    <tr>\n",
       "      <th>5</th>\n",
       "      <td>No Urgent Place</td>\n",
       "      <td>Friend(s)</td>\n",
       "      <td>Sunny</td>\n",
       "      <td>80</td>\n",
       "      <td>6PM</td>\n",
       "      <td>Restaurant(&lt;20)</td>\n",
       "      <td>2h</td>\n",
       "      <td>Female</td>\n",
       "      <td>21</td>\n",
       "      <td>Unmarried partner</td>\n",
       "      <td>...</td>\n",
       "      <td>never</td>\n",
       "      <td>NaN</td>\n",
       "      <td>4~8</td>\n",
       "      <td>1~3</td>\n",
       "      <td>1</td>\n",
       "      <td>1</td>\n",
       "      <td>0</td>\n",
       "      <td>0</td>\n",
       "      <td>1</td>\n",
       "      <td>1</td>\n",
       "    </tr>\n",
       "    <tr>\n",
       "      <th>6</th>\n",
       "      <td>No Urgent Place</td>\n",
       "      <td>Friend(s)</td>\n",
       "      <td>Sunny</td>\n",
       "      <td>55</td>\n",
       "      <td>2PM</td>\n",
       "      <td>Carry out &amp; Take away</td>\n",
       "      <td>1d</td>\n",
       "      <td>Female</td>\n",
       "      <td>21</td>\n",
       "      <td>Unmarried partner</td>\n",
       "      <td>...</td>\n",
       "      <td>never</td>\n",
       "      <td>NaN</td>\n",
       "      <td>4~8</td>\n",
       "      <td>1~3</td>\n",
       "      <td>1</td>\n",
       "      <td>1</td>\n",
       "      <td>0</td>\n",
       "      <td>0</td>\n",
       "      <td>1</td>\n",
       "      <td>1</td>\n",
       "    </tr>\n",
       "    <tr>\n",
       "      <th>7</th>\n",
       "      <td>No Urgent Place</td>\n",
       "      <td>Kid(s)</td>\n",
       "      <td>Sunny</td>\n",
       "      <td>80</td>\n",
       "      <td>10AM</td>\n",
       "      <td>Restaurant(&lt;20)</td>\n",
       "      <td>2h</td>\n",
       "      <td>Female</td>\n",
       "      <td>21</td>\n",
       "      <td>Unmarried partner</td>\n",
       "      <td>...</td>\n",
       "      <td>never</td>\n",
       "      <td>NaN</td>\n",
       "      <td>4~8</td>\n",
       "      <td>1~3</td>\n",
       "      <td>1</td>\n",
       "      <td>1</td>\n",
       "      <td>0</td>\n",
       "      <td>0</td>\n",
       "      <td>1</td>\n",
       "      <td>1</td>\n",
       "    </tr>\n",
       "    <tr>\n",
       "      <th>8</th>\n",
       "      <td>No Urgent Place</td>\n",
       "      <td>Kid(s)</td>\n",
       "      <td>Sunny</td>\n",
       "      <td>80</td>\n",
       "      <td>10AM</td>\n",
       "      <td>Carry out &amp; Take away</td>\n",
       "      <td>2h</td>\n",
       "      <td>Female</td>\n",
       "      <td>21</td>\n",
       "      <td>Unmarried partner</td>\n",
       "      <td>...</td>\n",
       "      <td>never</td>\n",
       "      <td>NaN</td>\n",
       "      <td>4~8</td>\n",
       "      <td>1~3</td>\n",
       "      <td>1</td>\n",
       "      <td>1</td>\n",
       "      <td>0</td>\n",
       "      <td>0</td>\n",
       "      <td>1</td>\n",
       "      <td>1</td>\n",
       "    </tr>\n",
       "    <tr>\n",
       "      <th>9</th>\n",
       "      <td>No Urgent Place</td>\n",
       "      <td>Kid(s)</td>\n",
       "      <td>Sunny</td>\n",
       "      <td>80</td>\n",
       "      <td>10AM</td>\n",
       "      <td>Bar</td>\n",
       "      <td>1d</td>\n",
       "      <td>Female</td>\n",
       "      <td>21</td>\n",
       "      <td>Unmarried partner</td>\n",
       "      <td>...</td>\n",
       "      <td>never</td>\n",
       "      <td>NaN</td>\n",
       "      <td>4~8</td>\n",
       "      <td>1~3</td>\n",
       "      <td>1</td>\n",
       "      <td>1</td>\n",
       "      <td>0</td>\n",
       "      <td>0</td>\n",
       "      <td>1</td>\n",
       "      <td>0</td>\n",
       "    </tr>\n",
       "  </tbody>\n",
       "</table>\n",
       "<p>10 rows × 26 columns</p>\n",
       "</div>"
      ],
      "text/plain": [
       "       destination  passanger weather  temperature  time  \\\n",
       "0  No Urgent Place      Alone   Sunny           55   2PM   \n",
       "1  No Urgent Place  Friend(s)   Sunny           80  10AM   \n",
       "2  No Urgent Place  Friend(s)   Sunny           80  10AM   \n",
       "3  No Urgent Place  Friend(s)   Sunny           80   2PM   \n",
       "4  No Urgent Place  Friend(s)   Sunny           80   2PM   \n",
       "5  No Urgent Place  Friend(s)   Sunny           80   6PM   \n",
       "6  No Urgent Place  Friend(s)   Sunny           55   2PM   \n",
       "7  No Urgent Place     Kid(s)   Sunny           80  10AM   \n",
       "8  No Urgent Place     Kid(s)   Sunny           80  10AM   \n",
       "9  No Urgent Place     Kid(s)   Sunny           80  10AM   \n",
       "\n",
       "                  coupon expiration  gender age      maritalStatus  ...  \\\n",
       "0        Restaurant(<20)         1d  Female  21  Unmarried partner  ...   \n",
       "1           Coffee House         2h  Female  21  Unmarried partner  ...   \n",
       "2  Carry out & Take away         2h  Female  21  Unmarried partner  ...   \n",
       "3           Coffee House         2h  Female  21  Unmarried partner  ...   \n",
       "4           Coffee House         1d  Female  21  Unmarried partner  ...   \n",
       "5        Restaurant(<20)         2h  Female  21  Unmarried partner  ...   \n",
       "6  Carry out & Take away         1d  Female  21  Unmarried partner  ...   \n",
       "7        Restaurant(<20)         2h  Female  21  Unmarried partner  ...   \n",
       "8  Carry out & Take away         2h  Female  21  Unmarried partner  ...   \n",
       "9                    Bar         1d  Female  21  Unmarried partner  ...   \n",
       "\n",
       "   CoffeeHouse CarryAway RestaurantLessThan20 Restaurant20To50  \\\n",
       "0        never       NaN                  4~8              1~3   \n",
       "1        never       NaN                  4~8              1~3   \n",
       "2        never       NaN                  4~8              1~3   \n",
       "3        never       NaN                  4~8              1~3   \n",
       "4        never       NaN                  4~8              1~3   \n",
       "5        never       NaN                  4~8              1~3   \n",
       "6        never       NaN                  4~8              1~3   \n",
       "7        never       NaN                  4~8              1~3   \n",
       "8        never       NaN                  4~8              1~3   \n",
       "9        never       NaN                  4~8              1~3   \n",
       "\n",
       "  toCoupon_GEQ5min toCoupon_GEQ15min toCoupon_GEQ25min direction_same  \\\n",
       "0                1                 0                 0              0   \n",
       "1                1                 0                 0              0   \n",
       "2                1                 1                 0              0   \n",
       "3                1                 1                 0              0   \n",
       "4                1                 1                 0              0   \n",
       "5                1                 1                 0              0   \n",
       "6                1                 1                 0              0   \n",
       "7                1                 1                 0              0   \n",
       "8                1                 1                 0              0   \n",
       "9                1                 1                 0              0   \n",
       "\n",
       "  direction_opp  Y  \n",
       "0             1  1  \n",
       "1             1  0  \n",
       "2             1  1  \n",
       "3             1  0  \n",
       "4             1  0  \n",
       "5             1  1  \n",
       "6             1  1  \n",
       "7             1  1  \n",
       "8             1  1  \n",
       "9             1  0  \n",
       "\n",
       "[10 rows x 26 columns]"
      ]
     },
     "execution_count": 550,
     "metadata": {},
     "output_type": "execute_result"
    }
   ],
   "source": [
    "data.head(10)"
   ]
  },
  {
   "cell_type": "markdown",
   "metadata": {
    "id": "GcDs78ZH_qRH"
   },
   "source": [
    "2. Investigate the dataset for missing or problematic data."
   ]
  },
  {
   "cell_type": "markdown",
   "metadata": {},
   "source": [
    "Let's look at the data set info."
   ]
  },
  {
   "cell_type": "code",
   "execution_count": 553,
   "metadata": {},
   "outputs": [
    {
     "name": "stdout",
     "output_type": "stream",
     "text": [
      "<class 'pandas.core.frame.DataFrame'>\n",
      "RangeIndex: 12684 entries, 0 to 12683\n",
      "Data columns (total 26 columns):\n",
      " #   Column                Non-Null Count  Dtype \n",
      "---  ------                --------------  ----- \n",
      " 0   destination           12684 non-null  object\n",
      " 1   passanger             12684 non-null  object\n",
      " 2   weather               12684 non-null  object\n",
      " 3   temperature           12684 non-null  int64 \n",
      " 4   time                  12684 non-null  object\n",
      " 5   coupon                12684 non-null  object\n",
      " 6   expiration            12684 non-null  object\n",
      " 7   gender                12684 non-null  object\n",
      " 8   age                   12684 non-null  object\n",
      " 9   maritalStatus         12684 non-null  object\n",
      " 10  has_children          12684 non-null  int64 \n",
      " 11  education             12684 non-null  object\n",
      " 12  occupation            12684 non-null  object\n",
      " 13  income                12684 non-null  object\n",
      " 14  car                   108 non-null    object\n",
      " 15  Bar                   12577 non-null  object\n",
      " 16  CoffeeHouse           12467 non-null  object\n",
      " 17  CarryAway             12533 non-null  object\n",
      " 18  RestaurantLessThan20  12554 non-null  object\n",
      " 19  Restaurant20To50      12495 non-null  object\n",
      " 20  toCoupon_GEQ5min      12684 non-null  int64 \n",
      " 21  toCoupon_GEQ15min     12684 non-null  int64 \n",
      " 22  toCoupon_GEQ25min     12684 non-null  int64 \n",
      " 23  direction_same        12684 non-null  int64 \n",
      " 24  direction_opp         12684 non-null  int64 \n",
      " 25  Y                     12684 non-null  int64 \n",
      "dtypes: int64(8), object(18)\n",
      "memory usage: 2.5+ MB\n"
     ]
    }
   ],
   "source": [
    "data.info()"
   ]
  },
  {
   "cell_type": "markdown",
   "metadata": {},
   "source": [
    "Data Issue 1 - The first thing to notice is the 'car' column (shown above) is missing most of the data. Let's remove that."
   ]
  },
  {
   "cell_type": "code",
   "execution_count": 555,
   "metadata": {
    "id": "6CwL6oWj_qRH"
   },
   "outputs": [
    {
     "data": {
      "text/plain": [
       "12684"
      ]
     },
     "execution_count": 555,
     "metadata": {},
     "output_type": "execute_result"
    }
   ],
   "source": [
    "data_no_cars = data.drop(columns='car')\n",
    "rows, cols = data_no_cars.shape\n",
    "rows"
   ]
  },
  {
   "cell_type": "markdown",
   "metadata": {},
   "source": [
    "Next, let's look for other columns with missing data."
   ]
  },
  {
   "cell_type": "code",
   "execution_count": 557,
   "metadata": {},
   "outputs": [
    {
     "data": {
      "text/plain": [
       "CoffeeHouse             217\n",
       "Restaurant20To50        189\n",
       "CarryAway               151\n",
       "RestaurantLessThan20    130\n",
       "Bar                     107\n",
       "destination               0\n",
       "income                    0\n",
       "direction_opp             0\n",
       "direction_same            0\n",
       "toCoupon_GEQ25min         0\n",
       "toCoupon_GEQ15min         0\n",
       "toCoupon_GEQ5min          0\n",
       "occupation                0\n",
       "passanger                 0\n",
       "education                 0\n",
       "has_children              0\n",
       "maritalStatus             0\n",
       "age                       0\n",
       "gender                    0\n",
       "expiration                0\n",
       "coupon                    0\n",
       "time                      0\n",
       "temperature               0\n",
       "weather                   0\n",
       "Y                         0\n",
       "dtype: int64"
      ]
     },
     "execution_count": 557,
     "metadata": {},
     "output_type": "execute_result"
    }
   ],
   "source": [
    "data_no_cars.isnull().sum().sort_values(ascending=False)"
   ]
  },
  {
   "cell_type": "markdown",
   "metadata": {},
   "source": [
    "What we see is most colums are complete but five have a small amount of missing values. We could handle this by either dropping the NaN values\n",
    "or by filling in the missing spot. A mean or median might be a good value to fill in with. Since the data set is rather large (12683 rows) and the maximum number of rows that would need to be dropped is relatively small (794 or ~6%), I will take the approach of dropping the rows."
   ]
  },
  {
   "cell_type": "markdown",
   "metadata": {
    "id": "bSdVSpYB_qRH"
   },
   "source": [
    "3. Decide what to do about your missing data -- drop, replace, other..."
   ]
  },
  {
   "cell_type": "markdown",
   "metadata": {
    "id": "tyvoAC5F_qRI"
   },
   "source": [
    "What we see is most colums are complete but five have a small amount of missing values. We could handle this by either dropping the \n",
    "NaN values or by filling in the missing spot. A mean or median might be a good value to fill in with. Since the data set is rather \n",
    "large (12683 rows) and the maximum number of rows that would need to be dropped is relatively small (794 or ~6%), I will take the \n",
    "approach of dropping the rows."
   ]
  },
  {
   "cell_type": "code",
   "execution_count": 561,
   "metadata": {},
   "outputs": [
    {
     "name": "stdout",
     "output_type": "stream",
     "text": [
      "Rows after dropping NaN: 12079\n",
      "Percentage of rows removed: 0.04769788710186061\n"
     ]
    }
   ],
   "source": [
    "clean_data = data_no_cars.dropna()\n",
    "clean_rows, clean_cols = clean_data.shape\n",
    "print(f\"Rows after dropping NaN: {clean_rows}\")\n",
    "print(f\"Percentage of rows removed: {(rows - clean_rows) / rows}\")"
   ]
  },
  {
   "cell_type": "markdown",
   "metadata": {},
   "source": [
    "Looks like we had to drop less than 5% of our data."
   ]
  },
  {
   "cell_type": "markdown",
   "metadata": {
    "id": "YE6oJbXd_qRI"
   },
   "source": [
    "4. What proportion of the total observations chose to accept the coupon?\n",
    "\n"
   ]
  },
  {
   "cell_type": "code",
   "execution_count": 564,
   "metadata": {
    "id": "86GGqBTv_qRI"
   },
   "outputs": [
    {
     "name": "stdout",
     "output_type": "stream",
     "text": [
      "Proportion of accepted coupons: 0.5693352098683666\n"
     ]
    }
   ],
   "source": [
    "acceptance_rate = clean_data['Y'].mean()\n",
    "print(f\"Proportion of accepted coupons: {acceptance_rate}\")"
   ]
  },
  {
   "cell_type": "markdown",
   "metadata": {
    "id": "vflz0DoE_qRI"
   },
   "source": [
    "5. Use a bar plot to visualize the `coupon` column."
   ]
  },
  {
   "cell_type": "code",
   "execution_count": 566,
   "metadata": {
    "id": "dHFh3E45_qRI"
   },
   "outputs": [
    {
     "data": {
      "image/png": "[encoded data removed]",
      "text/plain": [
       "<Figure size 640x480 with 1 Axes>"
      ]
     },
     "metadata": {},
     "output_type": "display_data"
    }
   ],
   "source": [
    "sns.countplot(data=clean_data, x='coupon', order=clean_data['coupon'].value_counts().index)\n",
    "plt.title('Count of Each Coupon Type')\n",
    "plt.xlabel('Coupon')\n",
    "plt.ylabel('Count')\n",
    "plt.xticks(rotation=45)\n",
    "plt.show()"
   ]
  },
  {
   "cell_type": "markdown",
   "metadata": {
    "id": "Qw4lCyx2_qRI"
   },
   "source": [
    "6. Use a histogram to visualize the temperature column."
   ]
  },
  {
   "cell_type": "code",
   "execution_count": 568,
   "metadata": {
    "id": "zLtOaJQk_qRI"
   },
   "outputs": [
    {
     "data": {
      "text/plain": [
       "array([55, 80, 30], dtype=int64)"
      ]
     },
     "execution_count": 568,
     "metadata": {},
     "output_type": "execute_result"
    }
   ],
   "source": [
    "clean_data['temperature'].unique()"
   ]
  },
  {
   "cell_type": "code",
   "execution_count": 569,
   "metadata": {
    "id": "Yg9Anv71_qRI"
   },
   "outputs": [
    {
     "data": {
      "image/png": "[encoded data removed]",
      "text/plain": [
       "<Figure size 640x480 with 1 Axes>"
      ]
     },
     "metadata": {},
     "output_type": "display_data"
    }
   ],
   "source": [
    "sns.histplot(data=clean_data, x='temperature', bins=5, kde=True)\n",
    "plt.title('Distribution of Temperature')\n",
    "plt.xlabel('Temperature (°F)')\n",
    "plt.ylabel('Frequency')\n",
    "plt.show()"
   ]
  },
  {
   "cell_type": "code",
   "execution_count": null,
   "metadata": {
    "id": "7GBHZKBp_qRJ"
   },
   "outputs": [],
   "source": []
  },
  {
   "cell_type": "code",
   "execution_count": null,
   "metadata": {
    "id": "Y5nBUA-j_qRJ"
   },
   "outputs": [],
   "source": []
  },
  {
   "cell_type": "code",
   "execution_count": null,
   "metadata": {
    "id": "ShcUC-Vm_qRJ"
   },
   "outputs": [],
   "source": []
  },
  {
   "cell_type": "markdown",
   "metadata": {
    "id": "FupfgeJk_qRJ"
   },
   "source": [
    "**Investigating the Bar Coupons**\n",
    "\n",
    "Now, we will lead you through an exploration of just the bar related coupons.  \n",
    "\n",
    "1. Create a new `DataFrame` that contains just the bar coupons.\n"
   ]
  },
  {
   "cell_type": "code",
   "execution_count": 571,
   "metadata": {
    "id": "tMBlWuGq_qRJ"
   },
   "outputs": [
    {
     "data": {
      "text/plain": [
       "(1996, 26)"
      ]
     },
     "execution_count": 571,
     "metadata": {},
     "output_type": "execute_result"
    }
   ],
   "source": [
    "bar_coupons = data[data['coupon'] == 'Bar']\n",
    "bar_coupons_clean = bar_coupons[bar_coupons['Bar'].notna()]\n",
    "bar_coupons_clean.shape"
   ]
  },
  {
   "cell_type": "markdown",
   "metadata": {
    "id": "8ue6uCqf_qRJ"
   },
   "source": [
    "2. What proportion of bar coupons were accepted?\n"
   ]
  },
  {
   "cell_type": "code",
   "execution_count": 573,
   "metadata": {
    "id": "hSdte8Mi_qRK"
   },
   "outputs": [
    {
     "data": {
      "text/plain": [
       "Y\n",
       "0    0.589679\n",
       "1    0.410321\n",
       "Name: proportion, dtype: float64"
      ]
     },
     "execution_count": 573,
     "metadata": {},
     "output_type": "execute_result"
    }
   ],
   "source": [
    "# for col in cols:\n",
    "#     print(f\"Number of times people went to a bar\\n\")\n",
    "#     print(data['Bar'].value_counts())\n",
    "bar_coupons_clean['Y'].value_counts(normalize=True)"
   ]
  },
  {
   "cell_type": "markdown",
   "metadata": {},
   "source": [
    "Of the bar coupons, 41% were accepted."
   ]
  },
  {
   "cell_type": "markdown",
   "metadata": {
    "id": "85nA_iEi_qRK"
   },
   "source": [
    "3. Compare the acceptance rate between those who went to a bar 3 or fewer times a month to those who went more.\n"
   ]
  },
  {
   "cell_type": "code",
   "execution_count": 576,
   "metadata": {
    "id": "LBOrN-XM_qRK"
   },
   "outputs": [
    {
     "data": {
      "text/plain": [
       "array(['never', 'less1', '1~3', 'gt8', '4~8'], dtype=object)"
      ]
     },
     "execution_count": 576,
     "metadata": {},
     "output_type": "execute_result"
    }
   ],
   "source": [
    "bar_coupons_clean['Bar'].unique()"
   ]
  },
  {
   "cell_type": "code",
   "execution_count": 577,
   "metadata": {},
   "outputs": [
    {
     "name": "stdout",
     "output_type": "stream",
     "text": [
      "Acceptance rate for <= 3 visits/month: 0.5626285286969527\n",
      "Acceptance rate for > 3 visits/month:  0.6212889210716872\n"
     ]
    }
   ],
   "source": [
    "low_bar_visitors = ['never', 'less1', '1~3']\n",
    "high_bar_visitors = ['4~8', 'gt8']\n",
    "\n",
    "low_group = clean_data[clean_data['Bar'].isin(low_bar_visitors)]\n",
    "high_group = clean_data[clean_data['Bar'].isin(high_bar_visitors)]\n",
    "\n",
    "low_acceptance = low_group['Y'].mean()\n",
    "high_acceptance = high_group['Y'].mean()\n",
    "\n",
    "print(f\"Acceptance rate for <= 3 visits/month: {low_acceptance}\")\n",
    "print(f\"Acceptance rate for > 3 visits/month:  {high_acceptance}\")"
   ]
  },
  {
   "cell_type": "markdown",
   "metadata": {},
   "source": [
    "People that go to a bar more frequently accepted the coupon more frequently."
   ]
  },
  {
   "cell_type": "markdown",
   "metadata": {
    "id": "RBgcQwH4_qRK"
   },
   "source": [
    "4. Compare the acceptance rate between drivers who go to a bar more than once a month and are over the age of 25 to the all others.  Is there a difference?\n"
   ]
  },
  {
   "cell_type": "markdown",
   "metadata": {},
   "source": [
    "Just applying this code to 'clean_data' caused an error. In looking that up on the web, the suggestion to copy the data. That seems to work."
   ]
  },
  {
   "cell_type": "code",
   "execution_count": 581,
   "metadata": {
    "id": "bf28bbeX_qRK"
   },
   "outputs": [
    {
     "name": "stdout",
     "output_type": "stream",
     "text": [
      "Group 1 (Bar > 1/month & Age > 25) acceptance rate: 0.6230366492146597\n",
      "Group 2 (All others) acceptance rate:              0.554066985645933\n"
     ]
    }
   ],
   "source": [
    "new_clean_data = clean_data.copy()\n",
    "\n",
    "more_than_once = ['1~3', '4~8', 'gt8']\n",
    "age_mapping = {\n",
    "    'below21': 20,\n",
    "    '21': 21,\n",
    "    '26': 26,\n",
    "    '31': 31,\n",
    "    '36': 36,\n",
    "    '41': 41,\n",
    "    '46': 46,\n",
    "    '50plus': 50\n",
    "}\n",
    "new_clean_data.loc[:, 'age_num'] = new_clean_data['age'].map(age_mapping)\n",
    "over_25_and_bar_more_than_once = (new_clean_data['Bar'].isin(more_than_once)) & (new_clean_data['age_num'] > 25)\n",
    "\n",
    "group_1 = new_clean_data[over_25_and_bar_more_than_once]\n",
    "# Note that ~ (not) gives us the opposite expression\n",
    "group_2 = new_clean_data[~over_25_and_bar_more_than_once]\n",
    "\n",
    "mean_1 = group_1['Y'].mean()\n",
    "mean_2 = group_2['Y'].mean()\n",
    "\n",
    "print(f\"Group 1 (Bar > 1/month & Age > 25) acceptance rate: {mean_1}\")\n",
    "print(f\"Group 2 (All others) acceptance rate:              {mean_2}\")"
   ]
  },
  {
   "cell_type": "markdown",
   "metadata": {},
   "source": [
    "Drivers who are over 25 and go to a bar more than once a month are more likely to accept a coupon."
   ]
  },
  {
   "cell_type": "markdown",
   "metadata": {
    "id": "S4RKT4PJ_qRK"
   },
   "source": [
    "5. Use the same process to compare the acceptance rate between drivers who go to bars more than once a month and had passengers that were not a kid and had occupations other than farming, fishing, or forestry.\n"
   ]
  },
  {
   "cell_type": "code",
   "execution_count": 584,
   "metadata": {},
   "outputs": [
    {
     "data": {
      "text/plain": [
       "array(['Architecture & Engineering', 'Student',\n",
       "       'Education&Training&Library', 'Unemployed', 'Healthcare Support',\n",
       "       'Healthcare Practitioners & Technical', 'Sales & Related',\n",
       "       'Management', 'Arts Design Entertainment Sports & Media',\n",
       "       'Computer & Mathematical', 'Life Physical Social Science',\n",
       "       'Personal Care & Service', 'Office & Administrative Support',\n",
       "       'Construction & Extraction', 'Legal', 'Retired',\n",
       "       'Community & Social Services', 'Installation Maintenance & Repair',\n",
       "       'Transportation & Material Moving', 'Business & Financial',\n",
       "       'Protective Service', 'Food Preparation & Serving Related',\n",
       "       'Production Occupations',\n",
       "       'Building & Grounds Cleaning & Maintenance',\n",
       "       'Farming Fishing & Forestry'], dtype=object)"
      ]
     },
     "execution_count": 584,
     "metadata": {},
     "output_type": "execute_result"
    }
   ],
   "source": [
    "clean_data['occupation'].unique()"
   ]
  },
  {
   "cell_type": "code",
   "execution_count": 585,
   "metadata": {
    "id": "sENaI2Tg_qRK"
   },
   "outputs": [
    {
     "name": "stdout",
     "output_type": "stream",
     "text": [
      "Group 1 (Bar > 1/month, no kid passenger, non-farming job) acceptance rate: 0.625\n",
      "Group 2 (All others) acceptance rate:                                       0.5460734828031459\n"
     ]
    }
   ],
   "source": [
    "new_clean_data = clean_data.copy()\n",
    "\n",
    "more_than_once = ['1~3', '4~8', 'gt8']\n",
    "excluded_passenger = 'Kid(s)'\n",
    "excluded_occupation = 'Farming Fishing & Forestry'\n",
    "\n",
    "bar_more_than_once = (\n",
    "    new_clean_data['Bar'].isin(more_than_once) &\n",
    "    (new_clean_data['passanger'] != excluded_passenger) &\n",
    "    (new_clean_data['occupation'] != excluded_occupation)\n",
    ")\n",
    "\n",
    "group_1 = new_clean_data[bar_more_than_once]\n",
    "group_2 = new_clean_data[~bar_more_than_once]\n",
    "\n",
    "mean_1 = group_1['Y'].mean()\n",
    "mean_2 = group_2['Y'].mean()\n",
    "\n",
    "print(f\"Group 1 (Bar > 1/month, no kid passenger, non-farming job) acceptance rate: {mean_1}\")\n",
    "print(f\"Group 2 (All others) acceptance rate:                                       {mean_2}\")\n"
   ]
  },
  {
   "cell_type": "markdown",
   "metadata": {},
   "source": [
    "People who visit a bar more than once, have no kids and have a non-farm job accept coupons more frequently than others."
   ]
  },
  {
   "cell_type": "markdown",
   "metadata": {
    "id": "n2LIUTil_qRK"
   },
   "source": [
    "6. Compare the acceptance rates between those drivers who:\n",
    "\n",
    "- go to bars more than once a month, had passengers that were not a kid, and were not widowed *OR*\n",
    "- go to bars more than once a month and are under the age of 30 *OR*\n",
    "- go to cheap restaurants more than 4 times a month and income is less than 50K.\n",
    "\n"
   ]
  },
  {
   "cell_type": "code",
   "execution_count": 588,
   "metadata": {
    "id": "aK_wEzx7_qRK"
   },
   "outputs": [
    {
     "name": "stdout",
     "output_type": "stream",
     "text": [
      "Group 1 (one of the three expressions is true) acceptance rate: 0.6067257349979863\n",
      "Group 2 (everyone else) acceptance rate:                        0.5432307043441585\n"
     ]
    }
   ],
   "source": [
    "new_clean_data = clean_data.copy()\n",
    "\n",
    "bar_more_than_once = ['1~3', '4~8', 'gt8']\n",
    "cheap_restaurant_often = ['4~8', 'gt8']\n",
    "income_under_50k = ['$25000 - $37499', '$37500 - $49999', 'Less than $12500', '$12500 - $24999']\n",
    "age_mapping = {\n",
    "    'below21': 20,\n",
    "    '21': 21,\n",
    "    '26': 26,\n",
    "    '31': 31,\n",
    "    '36': 36,\n",
    "    '41': 41,\n",
    "    '46': 46,\n",
    "    '50plus': 50\n",
    "}\n",
    "\n",
    "new_clean_data.loc[:, 'age_num'] = new_clean_data['age'].map(age_mapping)\n",
    "\n",
    "# bar more than once, no kid passengers, not widowed\n",
    "expression_1 = (\n",
    "    new_clean_data['Bar'].isin(bar_more_than_once) &\n",
    "    (new_clean_data['passanger'] != 'Kid(s)') &\n",
    "    (new_clean_data['maritalStatus'] != 'Widowed')\n",
    ")\n",
    "\n",
    "# bar more than once and under 30\n",
    "expression_2 = (\n",
    "    new_clean_data['Bar'].isin(bar_more_than_once) &\n",
    "    (new_clean_data['age_num'] < 30)\n",
    ")\n",
    "\n",
    "# cheap restaurants frequently and less than $50k income\n",
    "expression_3 = (\n",
    "    new_clean_data['RestaurantLessThan20'].isin(cheap_restaurant_often) &\n",
    "    (new_clean_data['income'].isin(income_under_50k))\n",
    ")\n",
    "\n",
    "# combine the expressions 1 or 2 or 3\n",
    "combined_expression = expression_1 | expression_2 | expression_3\n",
    "\n",
    "group_1 = new_clean_data[combined_expression]\n",
    "group_2 = new_clean_data[~combined_expression]\n",
    "\n",
    "mean_1 = group_1['Y'].mean()\n",
    "mean_2 = group_2['Y'].mean()\n",
    "\n",
    "print(f\"Group 1 (one of the three expressions is true) acceptance rate: {mean_1}\")\n",
    "print(f\"Group 2 (everyone else) acceptance rate:                        {mean_2}\")\n"
   ]
  },
  {
   "cell_type": "markdown",
   "metadata": {},
   "source": [
    "People in one of the three groups identified are more likely than the rest of the people to accept a coupon."
   ]
  },
  {
   "cell_type": "markdown",
   "metadata": {
    "id": "v3fL3QkO_qRK"
   },
   "source": [
    "7.  Based on these observations, what do you hypothesize about drivers who accepted the bar coupons?"
   ]
  },
  {
   "cell_type": "markdown",
   "metadata": {
    "id": "Y48naDFh_qRL"
   },
   "source": [
    "If you drink at a bar more than once a month, you are more likely than other drivers to accept a coupon."
   ]
  },
  {
   "cell_type": "markdown",
   "metadata": {
    "id": "r4Hu1zOb_qRL"
   },
   "source": [
    "### Independent Investigation\n",
    "\n",
    "Using the bar coupon example as motivation, you are to explore one of the other coupon groups and try to determine the characteristics of passengers who accept the coupons.  "
   ]
  },
  {
   "cell_type": "markdown",
   "metadata": {},
   "source": [
    "Since coffee house seems to be the most popular coupon, let's see if drivers under 25 are more likely to accept a coupon."
   ]
  },
  {
   "cell_type": "markdown",
   "metadata": {
    "id": "0c71cQhu_qRL"
   },
   "source": [
    "Compare the acceptance rate between those who went to a coffee 3 or fewer times a month to those who went more."
   ]
  },
  {
   "cell_type": "code",
   "execution_count": 603,
   "metadata": {},
   "outputs": [
    {
     "name": "stdout",
     "output_type": "stream",
     "text": [
      "Group 1 (≤ 3 coffee visits/month) acceptance rate: 0.5566655924374262\n",
      "Group 2 (> 3 coffee visits/month) acceptance rate:  0.6119133574007221\n"
     ]
    }
   ],
   "source": [
    "low_freq = ['never', 'less1', '1~3']\n",
    "high_freq = ['4~8', 'gt8']\n",
    "\n",
    "group_1 = clean_data[clean_data['CoffeeHouse'].isin(low_freq)]\n",
    "group_2 = clean_data[clean_data['CoffeeHouse'].isin(high_freq)]\n",
    "\n",
    "# Calculate acceptance rates\n",
    "mean_1 = group_1['Y'].mean()\n",
    "mean_2 = group_2['Y'].mean()\n",
    "\n",
    "# Print the results\n",
    "print(f\"Group 1 (≤ 3 coffee visits/month) acceptance rate: {mean_1}\")\n",
    "print(f\"Group 2 (> 3 coffee visits/month) acceptance rate:  {mean_2}\")\n"
   ]
  },
  {
   "cell_type": "markdown",
   "metadata": {},
   "source": [
    "People who went to coffee three or less times a month are slightly less likely to accept a coupon."
   ]
  },
  {
   "cell_type": "markdown",
   "metadata": {
    "id": "QEsBkvIN_qRL"
   },
   "source": [
    "Compare the acceptance rate between drivers who go to a coffee more than once a month and are under the age of 25 to the all others. \n",
    "Is there a difference?"
   ]
  },
  {
   "cell_type": "code",
   "execution_count": 607,
   "metadata": {},
   "outputs": [
    {
     "name": "stdout",
     "output_type": "stream",
     "text": [
      "Group 1 (Coffee > 1/month & Age < 25) acceptance rate: 0.6536614645858343\n",
      "Group 2 (All others) acceptance rate:                  0.5558436569672525\n"
     ]
    }
   ],
   "source": [
    "new_clean_data = clean_data.copy()\n",
    "\n",
    "age_mapping = {\n",
    "    'below21': 20,\n",
    "    '21': 21,\n",
    "    '26': 26,\n",
    "    '31': 31,\n",
    "    '36': 36,\n",
    "    '41': 41,\n",
    "    '46': 46,\n",
    "    '50plus': 50\n",
    "}\n",
    "new_clean_data.loc[:, 'age_num'] = new_clean_data['age'].map(age_mapping)\n",
    "\n",
    "coffee_more_than_once = ['1~3', '4~8', 'gt8']\n",
    "\n",
    "expression_def = (\n",
    "    new_clean_data['CoffeeHouse'].isin(coffee_more_than_once) &\n",
    "    (new_clean_data['age_num'] < 25)\n",
    ")\n",
    "\n",
    "group_1 = new_clean_data[expression_def]\n",
    "group_2 = new_clean_data[~expression_def]\n",
    "\n",
    "# Step 5: Calculate acceptance rates\n",
    "mean_1 = group_1['Y'].mean()\n",
    "mean_2 = group_2['Y'].mean()\n",
    "\n",
    "# Step 6: Print results\n",
    "print(f\"Group 1 (Coffee > 1/month & Age < 25) acceptance rate: {mean_1}\")\n",
    "print(f\"Group 2 (All others) acceptance rate:                  {mean_2}\")\n"
   ]
  },
  {
   "cell_type": "markdown",
   "metadata": {},
   "source": [
    "Younger drivers (under 25) who are coffee drinkers accept coupons more than other drivers"
   ]
  },
  {
   "cell_type": "code",
   "execution_count": 610,
   "metadata": {},
   "outputs": [
    {
     "name": "stdout",
     "output_type": "stream",
     "text": [
      "Acceptance rate (young coffee drinkers): 0.6536614645858343\n",
      "Acceptance rate (other drivers):         0.5558436569672525\n"
     ]
    }
   ],
   "source": [
    "new_clean_data = clean_data.copy()\n",
    "\n",
    "age_mapping = {\n",
    "    'below21': 20,\n",
    "    '21': 21,\n",
    "    '26': 26,\n",
    "    '31': 31,\n",
    "    '36': 36,\n",
    "    '41': 41,\n",
    "    '46': 46,\n",
    "    '50plus': 50\n",
    "}\n",
    "new_clean_data.loc[:, 'age_num'] = new_clean_data['age'].map(age_mapping)\n",
    "\n",
    "coffee_drinker = ['1~3', '4~8', 'gt8']\n",
    "expression_def = (new_clean_data['age_num'] < 25) & (new_clean_data['CoffeeHouse'].isin(coffee_drinker))\n",
    "\n",
    "group_1 = new_clean_data[expression_def]\n",
    "group_2 = new_clean_data[~expression_def]\n",
    "\n",
    "mean_1 = group_1['Y'].mean()\n",
    "mean_2 = group_2['Y'].mean()\n",
    "\n",
    "print(f\"Acceptance rate (young coffee drinkers): {mean_1}\")\n",
    "print(f\"Acceptance rate (other drivers):         {mean_2}\")"
   ]
  },
  {
   "cell_type": "markdown",
   "metadata": {
    "id": "fTC2WGE3_qRL"
   },
   "source": [
    "Use the same process to compare the acceptance rate between drivers who go to coffee more than once a month and had passengers that were friends \n",
    "and the destination was no place urgent."
   ]
  },
  {
   "cell_type": "code",
   "execution_count": 613,
   "metadata": {},
   "outputs": [
    {
     "name": "stdout",
     "output_type": "stream",
     "text": [
      "Group 1 (Coffee > 1/mo, with friends, not urgent) acceptance rate: 0.7375796178343949\n",
      "Group 2 (All others) acceptance rate:                              0.5442002093443715\n"
     ]
    }
   ],
   "source": [
    "coffee_more_than_once = ['1~3', '4~8', 'gt8']\n",
    "\n",
    "expression_def = (\n",
    "    clean_data['CoffeeHouse'].isin(coffee_more_than_once) &\n",
    "    (clean_data['passanger'] == 'Friend(s)') &\n",
    "    (clean_data['destination'] == 'No Urgent Place')\n",
    ")\n",
    "\n",
    "group_1 = clean_data[expression_def]\n",
    "group_2 = clean_data[~expression_def]\n",
    "\n",
    "# Step 4: Calculate acceptance rates\n",
    "mean_1 = group_1['Y'].mean()\n",
    "mean_2 = group_2['Y'].mean()\n",
    "\n",
    "# Step 5: Print results\n",
    "print(f\"Group 1 (Coffee > 1/mo, with friends, not urgent) acceptance rate: {mean_1}\")\n",
    "print(f\"Group 2 (All others) acceptance rate:                              {mean_2}\")\n"
   ]
  },
  {
   "cell_type": "markdown",
   "metadata": {},
   "source": [
    "Wow! Drivers who frequent coffee houses more than once a month and had passengers that are friends and weren't going any place urgent are much more\n",
    "likely to accept a coupon."
   ]
  },
  {
   "cell_type": "markdown",
   "metadata": {
    "id": "RrqUWn7d_qRL"
   },
   "source": [
    "Compare the acceptance rates of drivers:\n",
    "* are under 25, had a passenger that is a friend, and the destination was no place urgent OR\n",
    "* are under 25, the weather was cold, OR\n",
    "* were going the same direction as the coupon was in"
   ]
  },
  {
   "cell_type": "code",
   "execution_count": 617,
   "metadata": {
    "id": "_oykf8YP_qRL"
   },
   "outputs": [
    {
     "name": "stdout",
     "output_type": "stream",
     "text": [
      "Group 1 (meets any of the 3 conditions) acceptance rate: 0.6111598013438504\n",
      "Group 2 (all others) acceptance rate:                    0.5527957486136784\n"
     ]
    }
   ],
   "source": [
    "new_clean_data = clean_data.copy()\n",
    "\n",
    "age_convert= {\n",
    "    'below21': 20, '21': 21, '26': 26, '31': 31, '36': 36,\n",
    "    '41': 41, '46': 46, '50plus': 50\n",
    "}\n",
    "new_clean_data.loc[:, 'age_num'] = new_clean_data['age'].map(age_convert)\n",
    "\n",
    "expression_1 = (\n",
    "    (new_clean_data['age_num'] < 25) &\n",
    "    (new_clean_data['passanger'] == 'Friend(s)') &\n",
    "    (new_clean_data['destination'] == 'No Urgent Place')\n",
    ")\n",
    "\n",
    "expression_2 = (\n",
    "    (new_clean_data['age_num'] < 25) &\n",
    "    (new_clean_data['weather'] == 'Cold')\n",
    ")\n",
    "\n",
    "expression_3 = (clean_data['direction_same'] == 1)\n",
    "\n",
    "expression_combined = expression_1 | expression_2 | expression_3\n",
    "\n",
    "group_1 = new_clean_data[expression_combined]\n",
    "group_2 = clean_data[~expression_combined]\n",
    "\n",
    "mean_1 = group_1['Y'].mean()\n",
    "mean_2 = group_2['Y'].mean()\n",
    "\n",
    "print(f\"Group 1 (meets any of the 3 conditions) acceptance rate: {mean_1}\")\n",
    "print(f\"Group 2 (all others) acceptance rate:                    {mean_2}\")\n"
   ]
  },
  {
   "cell_type": "markdown",
   "metadata": {},
   "source": [
    "Somewhat surprisingly, these three conditions seem like they would make accepting a coupon for coffee more likely but the data shows it's\n",
    "not that much more likely."
   ]
  },
  {
   "cell_type": "markdown",
   "metadata": {},
   "source": [
    "Generally, if you are under 25 and go to a coffee house more than once a month, you are more likely to accept a coupon."
   ]
  },
  {
   "cell_type": "code",
   "execution_count": null,
   "metadata": {},
   "outputs": [],
   "source": []
  },
  {
   "cell_type": "code",
   "execution_count": null,
   "metadata": {},
   "outputs": [],
   "source": []
  },
  {
   "cell_type": "code",
   "execution_count": null,
   "metadata": {},
   "outputs": [],
   "source": []
  },
  {
   "cell_type": "code",
   "execution_count": null,
   "metadata": {},
   "outputs": [],
   "source": []
  }
 ],
 "metadata": {
  "colab": {
   "provenance": []
  },
  "kernelspec": {
   "display_name": "Python [conda env:base] *",
   "language": "python",
   "name": "conda-base-py"
  },
  "language_info": {
   "codemirror_mode": {
    "name": "ipython",
    "version": 3
   },
   "file_extension": ".py",
   "mimetype": "text/x-python",
   "name": "python",
   "nbconvert_exporter": "python",
   "pygments_lexer": "ipython3",
   "version": "3.12.7"
  }
 },
 "nbformat": 4,
 "nbformat_minor": 4
}
